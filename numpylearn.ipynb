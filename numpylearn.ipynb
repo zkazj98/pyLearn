{
 "cells": [
  {
   "cell_type": "code",
   "execution_count": 2,
   "id": "19a06228",
   "metadata": {
    "ExecuteTime": {
     "end_time": "2024-05-23T09:10:01.733433600Z",
     "start_time": "2024-05-23T09:10:01.496068800Z"
    }
   },
   "outputs": [
    {
     "name": "stdout",
     "output_type": "stream",
     "text": [
      "[1 2 3]\n",
      "<class 'numpy.ndarray'>\n",
      "int32\n",
      "float64\n",
      "[[1.5 2.  3. ]\n",
      " [2.  3.  1. ]]\n",
      "[[1.+0.j 2.+0.j]\n",
      " [3.+0.j 4.+0.j]]\n",
      "[[0. 0. 0. 0.]\n",
      " [0. 0. 0. 0.]\n",
      " [0. 0. 0. 0.]]\n",
      "[ 0  1  2  3  4  5  6  7  8  9 10 11]\n",
      "float64\n",
      "[0. 1.]\n",
      "[0. 1.]\n",
      "[0.79 0.68 0.01 0.92 0.75 0.83 0.87 0.7  0.84 0.45]\n",
      "[1 2 3]\n",
      "<class 'numpy.ndarray'>\n",
      "int32\n",
      "float64\n",
      "[[1.5 2.  3. ]\n",
      " [2.  3.  1. ]]\n",
      "[[1.+0.j 2.+0.j]\n",
      " [3.+0.j 4.+0.j]]\n",
      "[[0. 0. 0. 0.]\n",
      " [0. 0. 0. 0.]\n",
      " [0. 0. 0. 0.]]\n",
      "[ 0  1  2  3  4  5  6  7  8  9 10 11]\n",
      "float64\n",
      "[0. 1.]\n",
      "[0. 1.]\n",
      "[0.06 0.28 0.11 0.22 0.38 0.19 0.   0.65 0.06 0.65]\n"
     ]
    }
   ],
   "source": [
    "import numpy as np\n",
    "import random\n",
    "import time\n",
    "t1 = np.array([1,2,3])\n",
    "t2 = np.array([1.3,2.6,3.12])\n",
    "# 这样array传参只能传入数组或者单个参数\n",
    "# t3 = np.array(1,2,3,4)\n",
    "print(t1)\n",
    "print(type(t1))\n",
    "print(t1.dtype)\n",
    "print(t2.dtype)\n",
    "#print(t3)\n",
    "t3 = np.array([(1.5,2,3),(2,3,1)])\n",
    "print(t3)\n",
    "\n",
    "a= np.array([[1,2],[3,4]],dtype=complex)\n",
    "print(a)\n",
    "b=np.zeros((3,4))\n",
    "print(b)\n",
    "\n",
    "c=np.arange(12)\n",
    "print(c)\n",
    "print(t2.dtype)\n",
    "\n",
    "d=np.array(range(2),dtype=\"float64\")\n",
    "print(d)\n",
    "# 转换类型\n",
    "d.astype(\"i1\")\n",
    "print(d)\n",
    "\n",
    "#取小数\n",
    "a1 = np.round([random.random() for i in range(10)],2)\n",
    "print(a1)"
   ]
  }
 ],
 "metadata": {
  "kernelspec": {
   "display_name": "Python 3 (ipykernel)",
   "language": "python",
   "name": "python3"
  },
  "language_info": {
   "codemirror_mode": {
    "name": "ipython",
    "version": 3
   },
   "file_extension": ".py",
   "mimetype": "text/x-python",
   "name": "python",
   "nbconvert_exporter": "python",
   "pygments_lexer": "ipython3",
   "version": "3.11.5"
  }
 },
 "nbformat": 4,
 "nbformat_minor": 5
}
