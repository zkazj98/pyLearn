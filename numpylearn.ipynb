{
 "cells": [
  {
   "cell_type": "code",
   "execution_count": 160,
   "id": "19a06228",
   "metadata": {
    "ExecuteTime": {
     "end_time": "2024-05-27T02:14:17.827017600Z",
     "start_time": "2024-05-27T02:14:17.800089200Z"
    }
   },
   "outputs": [
    {
     "name": "stdout",
     "output_type": "stream",
     "text": [
      "[1 2 3]\n",
      "<class 'numpy.ndarray'>\n",
      "int32\n",
      "float64\n",
      "[[1.5 2.  3. ]\n",
      " [2.  3.  1. ]]\n",
      "[[1.+0.j 2.+0.j]\n",
      " [3.+0.j 4.+0.j]]\n",
      "[[0. 0. 0. 0.]\n",
      " [0. 0. 0. 0.]\n",
      " [0. 0. 0. 0.]]\n",
      "[ 0  1  2  3  4  5  6  7  8  9 10 11]\n",
      "float64\n",
      "[0. 1.]\n",
      "[0. 1.]\n",
      "[0.22 0.75 0.66 0.18 0.54 0.12 0.75 0.28 0.08 0.9 ]\n"
     ]
    },
    {
     "data": {
      "text/plain": [
       "array([[19, 22],\n",
       "       [43, 50]])"
      ]
     },
     "execution_count": 160,
     "metadata": {},
     "output_type": "execute_result"
    }
   ],
   "source": [
    "import numpy as np\n",
    "import random\n",
    "import time\n",
    "t1 = np.array([1,2,3])\n",
    "t2 = np.array([1.3,2.6,3.12])\n",
    "# 这样array传参只能传入数组或者单个参数\n",
    "# t3 = np.array(1,2,3,4)\n",
    "print(t1)\n",
    "print(type(t1))\n",
    "print(t1.dtype)\n",
    "print(t2.dtype)\n",
    "#print(t3)\n",
    "t3 = np.array([(1.5,2,3),(2,3,1)])\n",
    "print(t3)\n",
    "\n",
    "a= np.array([[1,2],[3,4]],dtype=complex)\n",
    "print(a)\n",
    "b=np.zeros((3,4))\n",
    "print(b)\n",
    "\n",
    "c=np.arange(12)\n",
    "print(c)\n",
    "print(t2.dtype)\n",
    "\n",
    "d=np.array(range(2),dtype=\"float64\")\n",
    "print(d)\n",
    "# 转换类型\n",
    "d.astype(\"i1\")\n",
    "print(d)\n",
    "\n",
    "#取小数\n",
    "a1 = np.round([random.random() for i in range(10)],2)\n",
    "print(a1)\n",
    "\n",
    "#获取数组形状,有几个数代表是个几维数组\n",
    "#reshape代表重新设置数组\n",
    "t1 = np.arange(14)\n",
    "#t1.shape\n",
    "t1.reshape(2,7)\n",
    "t1.reshape(14,)\n",
    "\n",
    "#矩阵相乘 使用@或者dot\n",
    "j1=np.array([[1,2],[3,4]])\n",
    "j2=np.array([[5,6],[7,8]])\n",
    "j1.dot(j2)"
   ]
  },
  {
   "cell_type": "code",
   "execution_count": 173,
   "id": "e2f504a6",
   "metadata": {},
   "outputs": [
    {
     "data": {
      "text/plain": [
       "array([[1.73205081, 1.73205081, 1.73205081],\n",
       "       [1.73205081, 1.73205081, 1.73205081]])"
      ]
     },
     "execution_count": 173,
     "metadata": {},
     "output_type": "execute_result"
    }
   ],
   "source": [
    "a=np.ones((2,3),dtype=int)\n",
    "b = np.random.random((2,3))\n",
    "a *= 3\n",
    "a.sum()\n",
    "a.min()\n",
    "a.sum(axis=0)\n",
    "j2=np.array([[5,6],[7,8]])\n",
    "#获取每一列上的最小值， axis=1的时候获取每一行上最小值\n",
    "j2.min(axis=0)\n",
    "#获取e次方\n",
    "np.exp(a)\n",
    "#获取平方根\n",
    "np.sqrt(a)"
   ]
  }
 ],
 "metadata": {
  "kernelspec": {
   "display_name": "Python 3 (ipykernel)",
   "language": "python",
   "name": "python3"
  },
  "language_info": {
   "codemirror_mode": {
    "name": "ipython",
    "version": 3
   },
   "file_extension": ".py",
   "mimetype": "text/x-python",
   "name": "python",
   "nbconvert_exporter": "python",
   "pygments_lexer": "ipython3",
   "version": "3.11.5"
  }
 },
 "nbformat": 4,
 "nbformat_minor": 5
}
