{
 "cells": [
  {
   "cell_type": "code",
   "execution_count": 1,
   "id": "0e4574ad",
   "metadata": {},
   "outputs": [
    {
     "name": "stdout",
     "output_type": "stream",
     "text": [
      "5\n"
     ]
    }
   ],
   "source": [
    "str = \"dasda\"\n",
    "print(len(str))"
   ]
  },
  {
   "cell_type": "code",
   "execution_count": 3,
   "id": "01ad80b8",
   "metadata": {},
   "outputs": [
    {
     "data": {
      "text/plain": [
       "['2131', '112312']"
      ]
     },
     "execution_count": 3,
     "metadata": {},
     "output_type": "execute_result"
    }
   ],
   "source": [
    "classmates = ['2131','112312']\n",
    "classmates"
   ]
  },
  {
   "cell_type": "code",
   "execution_count": 5,
   "id": "ab340fb2",
   "metadata": {},
   "outputs": [
    {
     "data": {
      "text/plain": [
       "'2131'"
      ]
     },
     "execution_count": 5,
     "metadata": {},
     "output_type": "execute_result"
    }
   ],
   "source": [
    "classmates[0]"
   ]
  },
  {
   "cell_type": "code",
   "execution_count": 7,
   "id": "efc80c03",
   "metadata": {},
   "outputs": [
    {
     "data": {
      "text/plain": [
       "'112312'"
      ]
     },
     "execution_count": 7,
     "metadata": {},
     "output_type": "execute_result"
    }
   ],
   "source": [
    "classmates[-1]"
   ]
  },
  {
   "cell_type": "code",
   "execution_count": 10,
   "id": "8403fc22",
   "metadata": {},
   "outputs": [],
   "source": [
    "classmates.append(\"666\")"
   ]
  },
  {
   "cell_type": "code",
   "execution_count": 13,
   "id": "c4e3cbce",
   "metadata": {},
   "outputs": [],
   "source": [
    "classmates.insert(0,\"dsasd\")"
   ]
  },
  {
   "cell_type": "code",
   "execution_count": 15,
   "id": "c830c13c",
   "metadata": {},
   "outputs": [
    {
     "data": {
      "text/plain": [
       "['dsasd', 'dsasd', '2131', '112312', '666', '666']"
      ]
     },
     "execution_count": 15,
     "metadata": {},
     "output_type": "execute_result"
    }
   ],
   "source": [
    "classmates"
   ]
  },
  {
   "cell_type": "code",
   "execution_count": 18,
   "id": "7eaf8345",
   "metadata": {},
   "outputs": [
    {
     "data": {
      "text/plain": [
       "'php'"
      ]
     },
     "execution_count": 18,
     "metadata": {},
     "output_type": "execute_result"
    }
   ],
   "source": [
    "p = ['asp', 'php']\n",
    "s = ['python', 'java', p, 'scheme']\n",
    "s[2][1]"
   ]
  },
  {
   "cell_type": "code",
   "execution_count": 20,
   "id": "eb04e4e5",
   "metadata": {},
   "outputs": [
    {
     "data": {
      "text/plain": [
       "('zh', 'en')"
      ]
     },
     "execution_count": 20,
     "metadata": {},
     "output_type": "execute_result"
    }
   ],
   "source": [
    "tuclass =('zh','en')\n",
    "tuclass"
   ]
  },
  {
   "cell_type": "code",
   "execution_count": 22,
   "id": "1f352aa4",
   "metadata": {},
   "outputs": [
    {
     "ename": "TypeError",
     "evalue": "'tuple' object does not support item assignment",
     "output_type": "error",
     "traceback": [
      "\u001B[1;31m---------------------------------------------------------------------------\u001B[0m",
      "\u001B[1;31mTypeError\u001B[0m                                 Traceback (most recent call last)",
      "Cell \u001B[1;32mIn[22], line 1\u001B[0m\n\u001B[1;32m----> 1\u001B[0m tuclass[\u001B[38;5;241m0\u001B[39m] \u001B[38;5;241m=\u001B[39m \u001B[38;5;124m'\u001B[39m\u001B[38;5;124mdas\u001B[39m\u001B[38;5;124m'\u001B[39m\n",
      "\u001B[1;31mTypeError\u001B[0m: 'tuple' object does not support item assignment"
     ]
    }
   ],
   "source": [
    "tuclass[0] = 'das'"
   ]
  },
  {
   "cell_type": "code",
   "execution_count": 24,
   "id": "11206b6c",
   "metadata": {},
   "outputs": [
    {
     "name": "stdout",
     "output_type": "stream",
     "text": [
      "小于五岁\n"
     ]
    }
   ],
   "source": [
    "age = 3\n",
    "if age>5:\n",
    "    print(\"大于五岁\")\n",
    "else:\n",
    "    print(\"小于五岁\")    "
   ]
  },
  {
   "cell_type": "code",
   "execution_count": 26,
   "id": "06f313e7",
   "metadata": {},
   "outputs": [
    {
     "name": "stdout",
     "output_type": "stream",
     "text": [
      "score is B.\n"
     ]
    }
   ],
   "source": [
    "score = 'B'\n",
    "\n",
    "match score:\n",
    "    case 'A':\n",
    "        print('score is A.')\n",
    "    case 'B':\n",
    "        print('score is B.')\n",
    "    case 'C':\n",
    "        print('score is C.')\n",
    "    case _: # _表示匹配到其他任何情况\n",
    "        print('score is ???.')\n"
   ]
  },
  {
   "cell_type": "code",
   "execution_count": 28,
   "id": "61b083e8",
   "metadata": {},
   "outputs": [
    {
     "name": "stdout",
     "output_type": "stream",
     "text": [
      "dsasd\n",
      "dsasd\n",
      "2131\n",
      "112312\n",
      "666\n",
      "666\n"
     ]
    }
   ],
   "source": [
    "for i in classmates:\n",
    "    print(i)"
   ]
  },
  {
   "cell_type": "code",
   "execution_count": 1,
   "id": "6ec1de0e",
   "metadata": {
    "ExecuteTime": {
     "end_time": "2024-05-10T05:23:10.050902700Z",
     "start_time": "2024-05-10T05:23:10.016994Z"
    }
   },
   "outputs": [
    {
     "data": {
      "text/plain": "[0,\n 1,\n 2,\n 3,\n 4,\n 5,\n 6,\n 7,\n 8,\n 9,\n 10,\n 11,\n 12,\n 13,\n 14,\n 15,\n 16,\n 17,\n 18,\n 19,\n 20,\n 21,\n 22,\n 23,\n 24,\n 25,\n 26,\n 27,\n 28,\n 29,\n 30,\n 31,\n 32,\n 33,\n 34,\n 35,\n 36,\n 37,\n 38,\n 39,\n 40,\n 41,\n 42,\n 43,\n 44,\n 45,\n 46,\n 47,\n 48,\n 49,\n 50,\n 51,\n 52,\n 53,\n 54,\n 55,\n 56,\n 57,\n 58,\n 59,\n 60,\n 61,\n 62,\n 63,\n 64,\n 65,\n 66,\n 67,\n 68,\n 69,\n 70,\n 71,\n 72,\n 73,\n 74,\n 75,\n 76,\n 77,\n 78,\n 79,\n 80,\n 81,\n 82,\n 83,\n 84,\n 85,\n 86,\n 87,\n 88,\n 89,\n 90,\n 91,\n 92,\n 93,\n 94,\n 95,\n 96,\n 97,\n 98,\n 99,\n 100]"
     },
     "execution_count": 1,
     "metadata": {},
     "output_type": "execute_result"
    }
   ],
   "source": [
    "list(range(101))"
   ]
  },
  {
   "cell_type": "code",
   "execution_count": 32,
   "id": "61a07e1c",
   "metadata": {},
   "outputs": [
    {
     "name": "stdout",
     "output_type": "stream",
     "text": [
      "55\n"
     ]
    }
   ],
   "source": [
    "sum=0\n",
    "for x in range(11):\n",
    "    sum+=x\n",
    "print(sum)"
   ]
  },
  {
   "cell_type": "code",
   "execution_count": 37,
   "id": "4c5beb5a",
   "metadata": {},
   "outputs": [
    {
     "data": {
      "text/plain": [
       "{'zh': 1, 'en': 2}"
      ]
     },
     "execution_count": 37,
     "metadata": {},
     "output_type": "execute_result"
    }
   ],
   "source": [
    "namemap={'zh':1,'en':2}\n",
    "namemap"
   ]
  },
  {
   "cell_type": "code",
   "execution_count": 40,
   "id": "c9d0daf1",
   "metadata": {},
   "outputs": [
    {
     "data": {
      "text/plain": [
       "666"
      ]
     },
     "execution_count": 40,
     "metadata": {},
     "output_type": "execute_result"
    }
   ],
   "source": [
    "namemap['zh']=666\n",
    "namemap['zh']"
   ]
  },
  {
   "cell_type": "code",
   "execution_count": 42,
   "id": "63dd6dcf",
   "metadata": {},
   "outputs": [
    {
     "data": {
      "text/plain": [
       "True"
      ]
     },
     "execution_count": 42,
     "metadata": {},
     "output_type": "execute_result"
    }
   ],
   "source": [
    "'zh' in namemap"
   ]
  },
  {
   "cell_type": "code",
   "execution_count": 46,
   "id": "5e2087af",
   "metadata": {},
   "outputs": [
    {
     "data": {
      "text/plain": [
       "-1"
      ]
     },
     "execution_count": 46,
     "metadata": {},
     "output_type": "execute_result"
    }
   ],
   "source": [
    "namemap.get('zh11',-1)"
   ]
  },
  {
   "cell_type": "code",
   "execution_count": 48,
   "id": "548089fb",
   "metadata": {},
   "outputs": [
    {
     "data": {
      "text/plain": [
       "{1, 2}"
      ]
     },
     "execution_count": 48,
     "metadata": {},
     "output_type": "execute_result"
    }
   ],
   "source": [
    "s= set([1,2,2,1,1,1,2])\n",
    "s"
   ]
  },
  {
   "cell_type": "code",
   "execution_count": 50,
   "id": "17c6f264",
   "metadata": {},
   "outputs": [
    {
     "data": {
      "text/plain": [
       "{1, 2, 9}"
      ]
     },
     "execution_count": 50,
     "metadata": {},
     "output_type": "execute_result"
    }
   ],
   "source": [
    "s.add(9)\n",
    "s"
   ]
  },
  {
   "cell_type": "code",
   "execution_count": 53,
   "id": "8938ed4e",
   "metadata": {},
   "outputs": [
    {
     "ename": "KeyError",
     "evalue": "1",
     "output_type": "error",
     "traceback": [
      "\u001B[1;31m---------------------------------------------------------------------------\u001B[0m",
      "\u001B[1;31mKeyError\u001B[0m                                  Traceback (most recent call last)",
      "Cell \u001B[1;32mIn[53], line 1\u001B[0m\n\u001B[1;32m----> 1\u001B[0m s\u001B[38;5;241m.\u001B[39mremove(\u001B[38;5;241m1\u001B[39m)\n\u001B[0;32m      2\u001B[0m s\n",
      "\u001B[1;31mKeyError\u001B[0m: 1"
     ]
    }
   ],
   "source": [
    "s.remove(1)\n",
    "s"
   ]
  },
  {
   "cell_type": "code",
   "execution_count": 56,
   "id": "2cdf199a",
   "metadata": {},
   "outputs": [
    {
     "data": {
      "text/plain": [
       "True"
      ]
     },
     "execution_count": 56,
     "metadata": {},
     "output_type": "execute_result"
    }
   ],
   "source": [
    "2 in s"
   ]
  },
  {
   "cell_type": "code",
   "execution_count": 61,
   "id": "cdec9efe",
   "metadata": {},
   "outputs": [
    {
     "data": {
      "text/plain": [
       "110"
      ]
     },
     "execution_count": 61,
     "metadata": {},
     "output_type": "execute_result"
    }
   ],
   "source": [
    "z=abs\n",
    "z(-110)"
   ]
  },
  {
   "cell_type": "code",
   "execution_count": 64,
   "id": "612720f3",
   "metadata": {},
   "outputs": [
    {
     "data": {
      "text/plain": [
       "'0xff'"
      ]
     },
     "execution_count": 64,
     "metadata": {},
     "output_type": "execute_result"
    }
   ],
   "source": [
    "n1 = 255\n",
    "n2 = 1000\n",
    "\n",
    "hex(255)"
   ]
  },
  {
   "cell_type": "code",
   "execution_count": 70,
   "id": "7e37ad52",
   "metadata": {},
   "outputs": [
    {
     "data": {
      "text/plain": [
       "1909"
      ]
     },
     "execution_count": 70,
     "metadata": {},
     "output_type": "execute_result"
    }
   ],
   "source": [
    "def zk_zbs(x):\n",
    "    if x>=0:\n",
    "        return x\n",
    "    else:\n",
    "        return -x\n",
    "    \n",
    "d=zk_zbs\n",
    "d(-1909)"
   ]
  },
  {
   "cell_type": "code",
   "execution_count": 71,
   "id": "7c3e62c3",
   "metadata": {},
   "outputs": [],
   "source": [
    "def nop():\n",
    "    pass"
   ]
  },
  {
   "cell_type": "code",
   "execution_count": 78,
   "id": "61985d5b",
   "metadata": {},
   "outputs": [
    {
     "data": {
      "text/plain": [
       "14"
      ]
     },
     "execution_count": 78,
     "metadata": {},
     "output_type": "execute_result"
    }
   ],
   "source": [
    "def calc(*numbers):\n",
    "    sum = 0\n",
    "    for n in numbers:\n",
    "        sum = sum + n * n\n",
    "    return sum\n",
    "\n",
    "\n",
    "num=(1,2,3)\n",
    "calc(*num)"
   ]
  },
  {
   "cell_type": "code",
   "execution_count": 84,
   "id": "412e1804",
   "metadata": {},
   "outputs": [
    {
     "data": {
      "text/plain": [
       "[0, 10, 20, 30, 40, 50, 60, 70, 80, 90, 100]"
      ]
     },
     "execution_count": 84,
     "metadata": {},
     "output_type": "execute_result"
    }
   ],
   "source": [
    "arr=list(range(101))\n",
    "arr[:10]\n",
    "arr[-10:]\n",
    "arr[-10:-1:2]\n",
    "arr[::10]"
   ]
  },
  {
   "cell_type": "code",
   "execution_count": 92,
   "id": "63f7e468",
   "metadata": {},
   "outputs": [
    {
     "name": "stdout",
     "output_type": "stream",
     "text": [
      "0\n",
      "1\n",
      "1\n",
      "2\n",
      "2\n",
      "3\n",
      "3\n",
      "4\n"
     ]
    }
   ],
   "source": [
    "arr = [1,2,3,4]\n",
    "for index,value in enumerate(arr):\n",
    "    print(index)\n",
    "    print(value)"
   ]
  },
  {
   "cell_type": "code",
   "execution_count": 94,
   "id": "0d89d925",
   "metadata": {},
   "outputs": [
    {
     "data": {
      "text/plain": [
       "True"
      ]
     },
     "execution_count": 94,
     "metadata": {},
     "output_type": "execute_result"
    }
   ],
   "source": [
    "from collections.abc import Iterable\n",
    "isinstance('abc', Iterable)"
   ]
  },
  {
   "cell_type": "code",
   "execution_count": 96,
   "id": "bb30ceb8",
   "metadata": {},
   "outputs": [
    {
     "name": "stdout",
     "output_type": "stream",
     "text": [
      "1 1\n",
      "2 4\n",
      "3 9\n"
     ]
    }
   ],
   "source": [
    "for x, y in [(1, 1), (2, 4), (3, 9)]:\n",
    "    print(x,y)"
   ]
  },
  {
   "cell_type": "code",
   "execution_count": 98,
   "id": "48ff0e17",
   "metadata": {},
   "outputs": [
    {
     "data": {
      "text/plain": [
       "(0, 4)"
      ]
     },
     "execution_count": 98,
     "metadata": {},
     "output_type": "execute_result"
    }
   ],
   "source": [
    "def testmin(*arr):\n",
    "    min=0;\n",
    "    max=0;\n",
    "    for v in arr:\n",
    "        if(v<min):\n",
    "            min=v\n",
    "        if(v>max):\n",
    "            max=v\n",
    "    return min,max\n",
    "            \n",
    "testmin(1,2,3,4)"
   ]
  },
  {
   "cell_type": "code",
   "execution_count": 100,
   "id": "4b3ffabd",
   "metadata": {},
   "outputs": [
    {
     "data": {
      "text/plain": [
       "[1, 4, 9, 16, 25, 36, 49, 64, 81, 100]"
      ]
     },
     "execution_count": 100,
     "metadata": {},
     "output_type": "execute_result"
    }
   ],
   "source": [
    "[x * x for x in range(1,11)]"
   ]
  },
  {
   "cell_type": "code",
   "execution_count": 107,
   "id": "ba42401c",
   "metadata": {},
   "outputs": [
    {
     "name": "stdout",
     "output_type": "stream",
     "text": [
      "0\n",
      "1\n",
      "8\n",
      "27\n",
      "64\n",
      "125\n",
      "216\n",
      "343\n",
      "512\n",
      "729\n"
     ]
    }
   ],
   "source": [
    "g=(x *x*x for x in (range(10)))\n",
    "for v in g:\n",
    "    print(v)"
   ]
  },
  {
   "cell_type": "code",
   "execution_count": 112,
   "id": "3f1e6001",
   "metadata": {},
   "outputs": [
    {
     "name": "stdout",
     "output_type": "stream",
     "text": [
      "1\n",
      "1\n",
      "2\n",
      "3\n",
      "5\n",
      "8\n",
      "13\n",
      "21\n",
      "34\n",
      "55\n"
     ]
    },
    {
     "data": {
      "text/plain": [
       "'done'"
      ]
     },
     "execution_count": 112,
     "metadata": {},
     "output_type": "execute_result"
    }
   ],
   "source": [
    "def fib(max):\n",
    "    n,a,b=0,0,1\n",
    "    while n<max:\n",
    "        print(b)\n",
    "        a,b=b,a+b\n",
    "        n+=1\n",
    "    return 'done'\n",
    "\n",
    "fib(10)"
   ]
  },
  {
   "cell_type": "code",
   "execution_count": 116,
   "id": "6c4c3dfa",
   "metadata": {},
   "outputs": [
    {
     "name": "stdout",
     "output_type": "stream",
     "text": [
      "g: 1\n",
      "g: 1\n",
      "g: 2\n",
      "g: 3\n",
      "g: 5\n",
      "g: 8\n",
      "g: 13\n",
      "g: 21\n",
      "g: 34\n",
      "g: 55\n",
      "Generator return value: done\n"
     ]
    }
   ],
   "source": [
    "def fib(max):\n",
    "    n,a,b=0,0,1\n",
    "    while n<max:\n",
    "        yield b\n",
    "        a,b=b,a+b\n",
    "        n+=1\n",
    "    return 'done'\n",
    "\n",
    "g=fib(10)\n",
    "\n",
    "while True:\n",
    "    try:\n",
    "        x=next(g)\n",
    "        print('g:',x)\n",
    "    except StopIteration as e:\n",
    "        print('Generator return value:', e.value)\n",
    "        break"
   ]
  },
  {
   "cell_type": "code",
   "execution_count": 118,
   "id": "6b98c710",
   "metadata": {},
   "outputs": [
    {
     "data": {
      "text/plain": [
       "[0, 1, 8, 27, 64, 125, 216, 343, 512, 729]"
      ]
     },
     "execution_count": 118,
     "metadata": {},
     "output_type": "execute_result"
    }
   ],
   "source": [
    "def f(x):\n",
    "    return x*x*x\n",
    "\n",
    "r=map(f,list(range(10)))\n",
    "list(r)"
   ]
  },
  {
   "cell_type": "code",
   "execution_count": 121,
   "id": "96746f57",
   "metadata": {},
   "outputs": [
    {
     "data": {
      "text/plain": [
       "10"
      ]
     },
     "execution_count": 121,
     "metadata": {},
     "output_type": "execute_result"
    }
   ],
   "source": [
    "from functools import reduce\n",
    "def add(x,y):\n",
    "    return x+y\n",
    "\n",
    "reduce(add,[1,2,3,1,3])"
   ]
  },
  {
   "cell_type": "code",
   "execution_count": 127,
   "id": "59908a8c",
   "metadata": {},
   "outputs": [
    {
     "name": "stdout",
     "output_type": "stream",
     "text": [
      "[('Adam', 92), ('Bart', 66), ('Bob', 75), ('Lisa', 88)]\n",
      "[('Bart', 66), ('Bob', 75), ('Lisa', 88), ('Adam', 92)]\n",
      "[('Adam', 92), ('Bart', 66), ('Bob', 75), ('Lisa', 88)]\n"
     ]
    }
   ],
   "source": [
    "from operator import itemgetter\n",
    "students = [('Bob', 75), ('Adam', 92), ('Bart', 66), ('Lisa', 88)]\n",
    "\n",
    "print(sorted(students, key=itemgetter(0)))\n",
    "print(sorted(students, key=lambda t: t[1]))\n",
    "print(sorted(students, key=lambda t: t[0]))"
   ]
  },
  {
   "cell_type": "code",
   "execution_count": 129,
   "id": "c14a6479",
   "metadata": {},
   "outputs": [
    {
     "data": {
      "text/plain": [
       "6"
      ]
     },
     "execution_count": 129,
     "metadata": {},
     "output_type": "execute_result"
    }
   ],
   "source": [
    "def lazy_sum(*args):\n",
    "    def sum():\n",
    "        ax = 0\n",
    "        for n in args:\n",
    "            ax = ax + n\n",
    "        return ax\n",
    "    return sum\n",
    "\n",
    "f=lazy_sum(1,2,1,1,1)\n",
    "f()"
   ]
  },
  {
   "cell_type": "code",
   "execution_count": 132,
   "id": "2af6a581",
   "metadata": {},
   "outputs": [
    {
     "name": "stdout",
     "output_type": "stream",
     "text": [
      "[1, 3, 5, 7, 9, 11, 13, 15, 17, 19]\n"
     ]
    }
   ],
   "source": [
    "L=list(filter(lambda x:x%2 == 1,range(1,20)))\n",
    "print(L)"
   ]
  },
  {
   "cell_type": "code",
   "execution_count": 135,
   "id": "56a6acc3",
   "metadata": {},
   "outputs": [
    {
     "name": "stdout",
     "output_type": "stream",
     "text": [
      "当前时间\n"
     ]
    },
    {
     "data": {
      "text/plain": [
       "'now'"
      ]
     },
     "execution_count": 135,
     "metadata": {},
     "output_type": "execute_result"
    }
   ],
   "source": [
    "def now():\n",
    "    print(\"当前时间\")\n",
    "f=now\n",
    "f()\n",
    "f.__name__"
   ]
  },
  {
   "cell_type": "code",
   "execution_count": 138,
   "id": "55cad3e7",
   "metadata": {},
   "outputs": [
    {
     "name": "stdout",
     "output_type": "stream",
     "text": [
      "call now():\n",
      "当前时间\n"
     ]
    }
   ],
   "source": [
    "def log(func):\n",
    "    def wrapper(*args, **kw):\n",
    "        print('call %s():' % func.__name__)\n",
    "        return func(*args, **kw)\n",
    "    return wrapper\n",
    "\n",
    "@log\n",
    "def now():\n",
    "    print(\"当前时间\")\n",
    "now()"
   ]
  },
  {
   "cell_type": "code",
   "execution_count": 141,
   "id": "02b35c67",
   "metadata": {},
   "outputs": [
    {
     "data": {
      "text/plain": [
       "4"
      ]
     },
     "execution_count": 141,
     "metadata": {},
     "output_type": "execute_result"
    }
   ],
   "source": [
    "import numpy as np\n",
    "ran3d = np.array([[[1,2,3],[4,5,6]],[[7,8,9],[10,11,12]]])\n",
    "ran3d[0][1][0]"
   ]
  }
 ],
 "metadata": {
  "kernelspec": {
   "display_name": "Python 3 (ipykernel)",
   "language": "python",
   "name": "python3"
  },
  "language_info": {
   "codemirror_mode": {
    "name": "ipython",
    "version": 3
   },
   "file_extension": ".py",
   "mimetype": "text/x-python",
   "name": "python",
   "nbconvert_exporter": "python",
   "pygments_lexer": "ipython3",
   "version": "3.11.5"
  }
 },
 "nbformat": 4,
 "nbformat_minor": 5
}
